{
 "cells": [
  {
   "cell_type": "markdown",
   "id": "d04ca8d5",
   "metadata": {},
   "source": [
    "# SPRINT 2 "
   ]
  },
  {
   "cell_type": "markdown",
   "id": "55d54c92",
   "metadata": {},
   "source": [
    "## Exercici 1"
   ]
  },
  {
   "cell_type": "markdown",
   "id": "84317cdc",
   "metadata": {},
   "source": [
    "**L'exercici consisteix a crear un programa que et classifiqui una variable numèrica en funció de l’escala Suspès/Aprovat/Notable/Excel·lent.**\n",
    "\n",
    "**Recorda que Suspès < 5, Aprovat > 5 i < 7, Notable > 7 i < 9 i Excel·lent > 9.**"
   ]
  },
  {
   "cell_type": "code",
   "execution_count": 1,
   "id": "3ebf1fdc",
   "metadata": {},
   "outputs": [
    {
     "name": "stdout",
     "output_type": "stream",
     "text": [
      "Ingrese nota: 10\n",
      "Su nota es excelente\n"
     ]
    }
   ],
   "source": [
    "nota=float(input('Ingrese nota: '))\n",
    "\n",
    "if 0>=nota<5:\n",
    "    print('Está suspendido')\n",
    "elif 5>=nota<7:\n",
    "    print('Su nota es aprobado')\n",
    "elif 7>=nota<9:\n",
    "    print('Su nota es notable')\n",
    "else:\n",
    "    print('Su nota es excelente')\n",
    "    \n",
    "#me gustaria ponerle que si no pone una nota del 0 al 10 de error"
   ]
  },
  {
   "cell_type": "markdown",
   "id": "b979231a",
   "metadata": {},
   "source": [
    "## Exercici 2"
   ]
  },
  {
   "cell_type": "markdown",
   "id": "6f3c8168",
   "metadata": {},
   "source": [
    "**Utilitzant el següent tutorial crea un programa que et pregunti dos números. T’ha de mostrar un missatge dient si el primer és més gran, el segon és més gran o són iguals.**"
   ]
  },
  {
   "cell_type": "code",
   "execution_count": 2,
   "id": "6d5b9b15",
   "metadata": {},
   "outputs": [
    {
     "name": "stdout",
     "output_type": "stream",
     "text": [
      "Elige un número:5\n",
      "Elige un segundo número:3\n",
      "El primer número es mayor que el segundo\n"
     ]
    }
   ],
   "source": [
    "#OPCIÓN SIN BUCLE, COMIENZA Y TERMINA SIN VOLVER A EMPEZAR\n",
    "n1=float(input('Elige un número:'))\n",
    "n2=float(input('Elige un segundo número:'))\n",
    "\n",
    "if n1>n2:\n",
    "    print('El primer número es mayor que el segundo')\n",
    "elif n1<n2:\n",
    "    print('El segundo número es menor que el segundo')\n",
    "else:\n",
    "    print('Los números son iguales')"
   ]
  },
  {
   "cell_type": "markdown",
   "id": "220342a7",
   "metadata": {},
   "source": [
    "### Exercici 3"
   ]
  },
  {
   "cell_type": "markdown",
   "id": "cb88ae95",
   "metadata": {},
   "source": [
    "**Crea un programa que et pregunti el teu nom, i et demani un número. Si el número és 0, hauria de mostrar un missatge d’error. En cas contrari, hauria de mostrar el nom repetit tants cops com indiqui el número. Per exemple, “Joan Joan Joan”.**"
   ]
  },
  {
   "cell_type": "code",
   "execution_count": 7,
   "id": "9a2234b4",
   "metadata": {},
   "outputs": [
    {
     "name": "stdout",
     "output_type": "stream",
     "text": [
      "Escriba su nombre:flor\n",
      "Escriba un número:5\n",
      "florflorflorflorflor\n"
     ]
    }
   ],
   "source": [
    "nombre=input(\"Escriba su nombre:\")\n",
    "numero=int(input(\"Escriba un número:\"))\n",
    "\n",
    "if numero==0:\n",
    "    print(\"ERROR el número debe ser mayor a cero\")\n",
    "else:\n",
    "    print (nombre*numero)\n"
   ]
  },
  {
   "cell_type": "markdown",
   "id": "a418da61",
   "metadata": {},
   "source": [
    "### Exercici 4\n"
   ]
  },
  {
   "cell_type": "markdown",
   "id": "c8b25d85",
   "metadata": {},
   "source": [
    "**Crea un programa que donada una llista qualsevol, et digui si és simètrica o no. Si ho és, que et digui quants elements té.**"
   ]
  },
  {
   "cell_type": "code",
   "execution_count": 10,
   "id": "ad6873e1",
   "metadata": {},
   "outputs": [
    {
     "name": "stdout",
     "output_type": "stream",
     "text": [
      "La lista es asimétrica\n"
     ]
    }
   ],
   "source": [
    "#solo me funciona con mi lista\n",
    "lista=[0,5,9,7,6]\n",
    "if lista[0]==lista[4] and lista[1]==lista[3]:\n",
    "    print ('La lista es simétrica')\n",
    "else:\n",
    "    print('La lista es asimétrica')\n",
    "        "
   ]
  },
  {
   "cell_type": "code",
   "execution_count": 16,
   "id": "a87b6742",
   "metadata": {},
   "outputs": [
    {
     "name": "stdout",
     "output_type": "stream",
     "text": [
      "La lista es asimétrica\n"
     ]
    }
   ],
   "source": [
    "#funciona para cualquier lista\n",
    "lista=[6,8,7,3,1,7]\n",
    "lista_rev=lista.reverse()\n",
    "if lista==lista_rev:\n",
    "    print('La lista es simétrica')\n",
    "else:\n",
    "    print('La lista es asimétrica')"
   ]
  },
  {
   "cell_type": "markdown",
   "id": "25d160d6",
   "metadata": {},
   "source": [
    "### Exercici 4"
   ]
  },
  {
   "cell_type": "markdown",
   "id": "b8314f49",
   "metadata": {},
   "source": [
    "**Crea un programa que donada una llista, et digui quants números coincideixen amb la seva posició. Per exemple [3,4,2,0,2,3,6] el 2 i el 6 coincideixen.**"
   ]
  },
  {
   "cell_type": "code",
   "execution_count": 30,
   "id": "246a3703",
   "metadata": {},
   "outputs": [
    {
     "name": "stdout",
     "output_type": "stream",
     "text": [
      "[9, 4, 7, 8, 1, 2, 6, 5, 0, 3]\n"
     ]
    }
   ],
   "source": [
    "import random\n",
    "l=random.sample(range(10), 10)\n",
    "l2=list(range(10))\n",
    "\n",
    "print (l) \n"
   ]
  },
  {
   "cell_type": "code",
   "execution_count": 31,
   "id": "9a424920",
   "metadata": {},
   "outputs": [
    {
     "name": "stdout",
     "output_type": "stream",
     "text": [
      "1\n"
     ]
    }
   ],
   "source": [
    "#veces de coincidencia\n",
    "print(sum(a == b for a, b in zip(l, l2)))"
   ]
  },
  {
   "cell_type": "code",
   "execution_count": 161,
   "id": "d7070b7b",
   "metadata": {},
   "outputs": [
    {
     "data": {
      "text/plain": [
       "1"
      ]
     },
     "execution_count": 161,
     "metadata": {},
     "output_type": "execute_result"
    }
   ],
   "source": [
    "#puedo definir si hay o no hay coincidencia y que cantidad\n",
    "def cuenta_coincidentes(l, l2):\n",
    "    res = 0\n",
    "    num_elem = len(l)\n",
    "    for x in range(num_elem):\n",
    "        if l[x] == l2[x]:\n",
    "            res += 1\n",
    "    return res;\n",
    "\n",
    "cuenta_coincidentes(l,l2)"
   ]
  },
  {
   "cell_type": "code",
   "execution_count": 33,
   "id": "c2a5f75a",
   "metadata": {},
   "outputs": [
    {
     "name": "stdout",
     "output_type": "stream",
     "text": [
      "coincide en el  6\n"
     ]
    }
   ],
   "source": [
    "#definir únicamente las coincidencias\n",
    "for count, item in enumerate (l):\n",
    "    if count == item:\n",
    "        \n",
    "        print ('coincide en el ',item)"
   ]
  }
 ],
 "metadata": {
  "kernelspec": {
   "display_name": "Python 3 (ipykernel)",
   "language": "python",
   "name": "python3"
  },
  "language_info": {
   "codemirror_mode": {
    "name": "ipython",
    "version": 3
   },
   "file_extension": ".py",
   "mimetype": "text/x-python",
   "name": "python",
   "nbconvert_exporter": "python",
   "pygments_lexer": "ipython3",
   "version": "3.10.5"
  }
 },
 "nbformat": 4,
 "nbformat_minor": 5
}
